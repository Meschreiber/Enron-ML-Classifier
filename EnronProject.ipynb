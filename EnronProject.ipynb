{
 "cells": [
  {
   "cell_type": "code",
   "execution_count": 1,
   "metadata": {
    "collapsed": false
   },
   "outputs": [],
   "source": [
    "#!/usr/bin/python\n",
    "from time import time\n",
    "import sys\n",
    "import pickle\n",
    "import pprint\n",
    "pp = pprint.PrettyPrinter(indent=4)\n",
    "from sklearn.metrics import accuracy_score\n",
    "sys.path.append(\"../tools/\")\n",
    "\n",
    "#from feature_format import featureFormat, targetFeatureSplit\n",
    "#from tester import dump_classifier_and_data\n",
    "\n",
    "### Task 1: Select what features you'll use.\n",
    "### features_list is a list of strings, each of which is a feature name.\n",
    "### The first feature must be \"poi\".\n",
    "features_list = ['poi','salary', 'to_messages', 'deferral_payments',\n",
    "                 'total_payments', 'exercised_stock_options', 'bonus', 'restricted_stock',\n",
    "                 'shared_receipt_with_poi', 'restricted_stock_deferred', 'total_stock_value',\n",
    "                 'expenses', 'loan_advances', 'from_messages', 'other', 'from_this_person_to_poi',\n",
    "                 'director_fees', 'deferred_income', 'long_term_incentive', 'from_poi_to_this_person']\n",
    "\n",
    "### Load the dictionary containing the dataset\n",
    "with open(\"final_project_dataset.pkl\", \"r\") as data_file:\n",
    "    data_dict = pickle.load(data_file)\n"
   ]
  },
  {
   "cell_type": "code",
   "execution_count": 2,
   "metadata": {
    "collapsed": true
   },
   "outputs": [],
   "source": [
    "import numpy as np\n",
    "\n",
    "def featureFormat( dictionary, features, remove_NaN=True, remove_all_zeroes=True, remove_any_zeroes=False, sort_keys = False):\n",
    "    \"\"\" convert dictionary to numpy array of features\n",
    "        remove_NaN = True will convert \"NaN\" string to 0.0\n",
    "        remove_all_zeroes = True will omit any data points for which\n",
    "            all the features you seek are 0.0\n",
    "        remove_any_zeroes = True will omit any data points for which\n",
    "            any of the features you seek are 0.0\n",
    "        sort_keys = True sorts keys by alphabetical order. Setting the value as\n",
    "            a string opens the corresponding pickle file with a preset key\n",
    "            order (this is used for Python 3 compatibility, and sort_keys\n",
    "            should be left as False for the course mini-projects).\n",
    "        NOTE: first feature is assumed to be 'poi' and is not checked for\n",
    "            removal for zero or missing values.\n",
    "    \"\"\"\n",
    "\n",
    "    return_list = []\n",
    "\n",
    "    # Key order - first branch is for Python 3 compatibility on mini-projects,\n",
    "    # second branch is for compatibility on final project.\n",
    "    if isinstance(sort_keys, str):\n",
    "        import pickle\n",
    "        keys = pickle.load(open(sort_keys, \"rb\"))\n",
    "    elif sort_keys:\n",
    "        keys = sorted(dictionary.keys())\n",
    "    else:\n",
    "        keys = dictionary.keys()\n",
    "\n",
    "    for key in keys:\n",
    "        tmp_list = []\n",
    "        for feature in features:\n",
    "            try:\n",
    "                dictionary[key][feature]\n",
    "            except KeyError:\n",
    "                print \"error: key \", feature, \" not present\"\n",
    "                return\n",
    "            value = dictionary[key][feature]\n",
    "            if value==\"NaN\" and remove_NaN:\n",
    "                value = 0\n",
    "            tmp_list.append( float(value) )\n",
    "\n",
    "        # Logic for deciding whether or not to add the data point.\n",
    "        append = True\n",
    "        # exclude 'poi' class as criteria.\n",
    "        if features[0] == 'poi':\n",
    "            test_list = tmp_list[1:]\n",
    "        else:\n",
    "            test_list = tmp_list\n",
    "        ### if all features are zero and you want to remove\n",
    "        ### data points that are all zero, do that here\n",
    "        if remove_all_zeroes:\n",
    "            append = False\n",
    "            for item in test_list:\n",
    "                if item != 0 and item != \"NaN\":\n",
    "                    append = True\n",
    "                    break\n",
    "        ### if any features for a given data point are zero\n",
    "        ### and you want to remove data points with any zeroes,\n",
    "        ### handle that here\n",
    "        if remove_any_zeroes:\n",
    "            if 0 in test_list or \"NaN\" in test_list:\n",
    "                append = False\n",
    "        ### Append the data point if flagged for addition.\n",
    "        if append:\n",
    "            return_list.append( np.array(tmp_list) )\n",
    "\n",
    "    return np.array(return_list)\n",
    "\n",
    "def targetFeatureSplit( data ):\n",
    "    \"\"\" \n",
    "        given a numpy array like the one returned from\n",
    "        featureFormat, separate out the first feature\n",
    "        and put it into its own list (this should be the \n",
    "        quantity you want to predict)\n",
    "\n",
    "        return targets and features as separate lists\n",
    "\n",
    "        (sklearn can generally handle both lists and numpy arrays as \n",
    "        input formats when training/predicting)\n",
    "    \"\"\"\n",
    "\n",
    "    target = []\n",
    "    features = []\n",
    "    for item in data:\n",
    "        target.append( item[0] )\n",
    "        features.append( item[1:] )\n",
    "\n",
    "    return target, features\n",
    "\n"
   ]
  },
  {
   "cell_type": "code",
   "execution_count": 3,
   "metadata": {
    "collapsed": false
   },
   "outputs": [
    {
     "name": "stdout",
     "output_type": "stream",
     "text": [
      "Number of  people: 146\n",
      "Number of features: 21\n",
      "Features: ['salary', 'to_messages', 'deferral_payments', 'total_payments', 'exercised_stock_options', 'bonus', 'restricted_stock', 'shared_receipt_with_poi', 'restricted_stock_deferred', 'total_stock_value', 'expenses', 'loan_advances', 'from_messages', 'other', 'from_this_person_to_poi', 'poi', 'director_fees', 'deferred_income', 'long_term_incentive', 'email_address', 'from_poi_to_this_person']\n",
      "\n",
      "Number of POI in poi_names.txt: 35\n",
      "Number of POI in dataset: 18\n",
      "\n",
      "\n",
      "Number of NaNs:\n",
      "{   'bonus': 64,\n",
      "    'deferral_payments': 107,\n",
      "    'deferred_income': 97,\n",
      "    'director_fees': 129,\n",
      "    'email_address': 35,\n",
      "    'exercised_stock_options': 44,\n",
      "    'expenses': 51,\n",
      "    'from_messages': 60,\n",
      "    'from_poi_to_this_person': 60,\n",
      "    'from_this_person_to_poi': 60,\n",
      "    'loan_advances': 142,\n",
      "    'long_term_incentive': 80,\n",
      "    'other': 53,\n",
      "    'poi': 0,\n",
      "    'restricted_stock': 36,\n",
      "    'restricted_stock_deferred': 128,\n",
      "    'salary': 51,\n",
      "    'shared_receipt_with_poi': 60,\n",
      "    'to_messages': 60,\n",
      "    'total_payments': 21,\n",
      "    'total_stock_value': 20}\n",
      "\n",
      "Number of Negative Values\n",
      "{   'bonus': 0,\n",
      "    'deferral_payments': 1,\n",
      "    'deferred_income': 49,\n",
      "    'director_fees': 0,\n",
      "    'email_address': 0,\n",
      "    'exercised_stock_options': 0,\n",
      "    'expenses': 0,\n",
      "    'from_messages': 0,\n",
      "    'from_poi_to_this_person': 0,\n",
      "    'from_this_person_to_poi': 0,\n",
      "    'loan_advances': 0,\n",
      "    'long_term_incentive': 0,\n",
      "    'other': 0,\n",
      "    'poi': 0,\n",
      "    'restricted_stock': 1,\n",
      "    'restricted_stock_deferred': 16,\n",
      "    'salary': 0,\n",
      "    'shared_receipt_with_poi': 0,\n",
      "    'to_messages': 0,\n",
      "    'total_payments': 0,\n",
      "    'total_stock_value': 1}\n",
      "\n"
     ]
    }
   ],
   "source": [
    "### Explore features of data\n",
    "print \"Number of  people: %d\" % (len(data_dict))\n",
    "print \"Number of features: %d\" % (len(data_dict['METTS MARK']))\n",
    "print \"Features: %s\" % data_dict['METTS MARK'].keys()\n",
    "print\n",
    "poi_names = open(\"../final_project/poi_names.txt\").read().split('\\n')\n",
    "poi_y = [name for name in poi_names if \"(y)\" in name]\n",
    "poi_n = [name for name in poi_names if \"(n)\" in name]\n",
    "print \"Number of POI in poi_names.txt: %d\" % len(poi_y + poi_n)\n",
    "\n",
    "poi_count = 0\n",
    "for person in data_dict:\n",
    "\tif data_dict[person][\"poi\"]==1:\n",
    "\t\tpoi_count +=1 \n",
    "print \"Number of POI in dataset: %d\" % (poi_count)\n",
    "print\n",
    "print\n",
    "\n",
    "keys_w_nans = dict((key, 0) for key, value in data_dict['METTS MARK'].iteritems())\n",
    "keys_w_negs = dict((key, 0) for key, value in data_dict['METTS MARK'].iteritems())\n",
    "\n",
    "for person in data_dict:\n",
    "    for key, value in data_dict[person].iteritems():\n",
    "        if value == \"NaN\":\n",
    "            keys_w_nans[key] += 1\n",
    "        elif value < 0:\n",
    "            keys_w_negs[key] += 1\n",
    "\n",
    "print \"Number of NaNs:\"          \n",
    "pp.pprint(keys_w_nans)\n",
    "\n",
    "print\n",
    "print \"Number of Negative Values\"\n",
    "pp.pprint(keys_w_negs) \n",
    "print\n"
   ]
  },
  {
   "cell_type": "code",
   "execution_count": 4,
   "metadata": {
    "collapsed": false
   },
   "outputs": [
    {
     "data": {
      "text/plain": [
       "{'bonus': 'NaN',\n",
       " 'deferral_payments': 'NaN',\n",
       " 'deferred_income': 'NaN',\n",
       " 'director_fees': 'NaN',\n",
       " 'email_address': 'NaN',\n",
       " 'exercised_stock_options': 'NaN',\n",
       " 'expenses': 'NaN',\n",
       " 'from_messages': 'NaN',\n",
       " 'from_poi_to_this_person': 'NaN',\n",
       " 'from_this_person_to_poi': 'NaN',\n",
       " 'loan_advances': 'NaN',\n",
       " 'long_term_incentive': 'NaN',\n",
       " 'other': 362096,\n",
       " 'poi': False,\n",
       " 'restricted_stock': 'NaN',\n",
       " 'restricted_stock_deferred': 'NaN',\n",
       " 'salary': 'NaN',\n",
       " 'shared_receipt_with_poi': 'NaN',\n",
       " 'to_messages': 'NaN',\n",
       " 'total_payments': 362096,\n",
       " 'total_stock_value': 'NaN'}"
      ]
     },
     "execution_count": 4,
     "metadata": {},
     "output_type": "execute_result"
    }
   ],
   "source": [
    "#Remove these values from the dictionary\n",
    "data_dict.pop('TOTAL')\n",
    "data_dict.pop('THE TRAVEL AGENCY IN THE PARK')"
   ]
  },
  {
   "cell_type": "markdown",
   "metadata": {},
   "source": [
    "Create the following features:\n",
    ">- Percent salary/total payments\n",
    ">- Percent bonus/total payments\n",
    ">- Ratio of salary:bonus\n",
    ">- Ratio of total stock value:total payments\n",
    ">- Percent excercised stock/total stock value"
   ]
  },
  {
   "cell_type": "code",
   "execution_count": 5,
   "metadata": {
    "collapsed": false
   },
   "outputs": [],
   "source": [
    "def create_ratio(data_dict, ratio_name, numerator, denominator):\n",
    "    for person in data_dict:\n",
    "        if data_dict[person][numerator] == 'NaN' or data_dict[person][denominator] == 'NaN':\n",
    "                data_dict[person][ratio_name] = 'NaN'\n",
    "        else:\n",
    "            data_dict[person][ratio_name] = float(data_dict[person][numerator])/float(data_dict[person][denominator])\n",
    "    return data_dict"
   ]
  },
  {
   "cell_type": "code",
   "execution_count": 6,
   "metadata": {
    "collapsed": false
   },
   "outputs": [],
   "source": [
    "data_dict = create_ratio(data_dict, 'sal_total', 'salary', 'total_payments')\n",
    "data_dict = create_ratio(data_dict, 'bon_total', 'bonus', 'total_payments')\n",
    "data_dict = create_ratio(data_dict, 'sal_bon', 'salary', 'bonus')\n",
    "data_dict = create_ratio(data_dict, 'stock_pay', 'total_stock_value', 'total_payments')\n",
    "data_dict = create_ratio(data_dict, 'excer_stock', 'exercised_stock_options', 'total_stock_value')"
   ]
  },
  {
   "cell_type": "code",
   "execution_count": 7,
   "metadata": {
    "collapsed": false
   },
   "outputs": [],
   "source": [
    "features_list.append('sal_total')\n",
    "features_list.append('bon_total')\n",
    "features_list.append('sal_bon')\n",
    "features_list.append('stock_pay')\n",
    "features_list.append('excer_stock')"
   ]
  },
  {
   "cell_type": "code",
   "execution_count": 8,
   "metadata": {
    "collapsed": false
   },
   "outputs": [],
   "source": [
    "### Task 3: Create new feature(s)\n",
    "### Store to my_dataset for easy export below.\n",
    "my_dataset = data_dict\n",
    "\n",
    "### Extract features and labels from dataset for local testing\n",
    "data = featureFormat(my_dataset, features_list, sort_keys = True)\n",
    "labels, features = targetFeatureSplit(data)\n",
    "\n",
    "from sklearn.model_selection import train_test_split\n",
    "\n",
    "features_train, features_test, labels_train, labels_test = \\\n",
    "    train_test_split(features, labels, test_size=0.1, random_state=42)"
   ]
  },
  {
   "cell_type": "code",
   "execution_count": 9,
   "metadata": {
    "collapsed": false
   },
   "outputs": [
    {
     "name": "stdout",
     "output_type": "stream",
     "text": [
      "Naive Bayes Classifier:\n",
      "training time: 0.001 s\n",
      "prediction time: 0.001 s\n",
      "accuracy: 0.6667\n",
      "precision, recall, fscore, totals [0, 1]\n",
      "(   array([ 1.        ,  0.16666667]),\n",
      "    array([ 0.64285714,  1.        ]),\n",
      "    array([ 0.7826087 ,  0.28571429]),\n",
      "    array([14,  1], dtype=int64))\n",
      "\n",
      "Support Vector Machine\n",
      "training time: 0.003 s\n",
      "prediction time: 0.001 s\n",
      "accuracy:  0.9333\n",
      "precision, recall, fscore, totals [0, 1]\n",
      "(   array([ 0.93333333,  0.        ]),\n",
      "    array([ 1.,  0.]),\n",
      "    array([ 0.96551724,  0.        ]),\n",
      "    array([14,  1], dtype=int64))\n",
      "\n",
      "Decision Tree\n",
      "training time: 0.001 s\n",
      "prediction time: 0.0 s\n",
      "accuracy:  0.8\n",
      "precision, recall, fscore, totals [0, 1]\n",
      "(   array([ 0.92307692,  0.        ]),\n",
      "    array([ 0.85714286,  0.        ]),\n",
      "    array([ 0.88888889,  0.        ]),\n",
      "    array([14,  1], dtype=int64))\n",
      "\n",
      "K Nearest Neighbors\n",
      "training time: 0.001 s\n",
      "prediction time: 0.001 s\n",
      "accuracy:  0.9333\n",
      "precision, recall, fscore, totals [0, 1]\n",
      "(   array([ 1. ,  0.5]),\n",
      "    array([ 0.92857143,  1.        ]),\n",
      "    array([ 0.96296296,  0.66666667]),\n",
      "    array([14,  1], dtype=int64))\n"
     ]
    },
    {
     "name": "stderr",
     "output_type": "stream",
     "text": [
      "C:\\Users\\MariaElisabeth\\Anaconda2\\lib\\site-packages\\sklearn\\metrics\\classification.py:1113: UndefinedMetricWarning: Precision and F-score are ill-defined and being set to 0.0 in labels with no predicted samples.\n",
      "  'precision', 'predicted', average, warn_for)\n"
     ]
    }
   ],
   "source": [
    "### Task 4: Try a varity of classifiers\n",
    "### Please name your classifier clf for easy export below.\n",
    "### Note that if you want to do PCA or other multi-stage operations,\n",
    "### you'll need to use Pipelines. For more info:\n",
    "### http://scikit-learn.org/stable/modules/pipeline.html\n",
    "\n",
    "# Out of the box algorithms\n",
    "from sklearn.metrics import precision_recall_fscore_support\n",
    "\n",
    "from sklearn.naive_bayes import GaussianNB\n",
    "nbclf = GaussianNB()\n",
    "print \"Naive Bayes Classifier:\"\n",
    "t0 = time()\n",
    "nbclf.fit(features_train, labels_train)\n",
    "print \"training time:\", round(time()-t0, 3), \"s\"\n",
    "t0 = time()\n",
    "nbpred = nbclf.predict(features_test)\n",
    "print \"prediction time:\", round(time()-t0, 3), \"s\"\n",
    "nb_acc = accuracy_score(labels_test, nbpred)\n",
    "print \"accuracy:\", round(nb_acc, 4)\n",
    "print \"precision, recall, fscore, totals [0, 1]\"\n",
    "pp.pprint(precision_recall_fscore_support(labels_test, nbpred))\n",
    "print\n",
    "\n",
    "from sklearn.svm import SVC\n",
    "svm_clf = SVC(kernel=\"rbf\", C = 10000)\n",
    "print \"Support Vector Machine\"\n",
    "t0 = time()\n",
    "svm_clf.fit(features_train, labels_train)\n",
    "print \"training time:\", round(time()-t0, 3), \"s\"\n",
    "t0 = time()\n",
    "svm_pred = svm_clf.predict(features_test)\n",
    "print \"prediction time:\", round(time()-t0, 3), \"s\"\n",
    "svm_acc = accuracy_score(labels_test, svm_pred)\n",
    "print \"accuracy: \", round(svm_acc, 4)\n",
    "print \"precision, recall, fscore, totals [0, 1]\"\n",
    "pp.pprint(precision_recall_fscore_support(labels_test, svm_pred))\n",
    "print\n",
    "\n",
    "from sklearn import tree\n",
    "print \"Decision Tree\"\n",
    "split = tree.DecisionTreeClassifier(min_samples_split = 10)\n",
    "t0 = time()\n",
    "split.fit(features_train, labels_train)\n",
    "print \"training time:\", round(time()-t0, 3), \"s\"\n",
    "t0 = time()\n",
    "split_pred = split.predict(features_test)\n",
    "print \"prediction time:\", round(time()-t0, 3), \"s\"\n",
    "acc_split = accuracy_score(labels_test, split_pred)\n",
    "print \"accuracy: \", round(acc_split, 4)\n",
    "print \"precision, recall, fscore, totals [0, 1]\"\n",
    "pp.pprint(precision_recall_fscore_support(labels_test, split_pred))\n",
    "print\n",
    "\n",
    "from sklearn.neighbors import KNeighborsClassifier\n",
    "neigh_clf = KNeighborsClassifier(n_neighbors=3)\n",
    "print \"K Nearest Neighbors\"\n",
    "t0 = time()\n",
    "neigh_clf.fit(features_train, labels_train)\n",
    "print \"training time:\", round(time()-t0, 3), \"s\"\n",
    "t0 = time()\n",
    "neigh_pred = neigh_clf.predict(features_test)\n",
    "print \"prediction time:\", round(time()-t0, 3), \"s\"\n",
    "neigh_accuracy = accuracy_score(labels_test, neigh_pred)\n",
    "print \"accuracy: \", round(neigh_accuracy, 4)\n",
    "print \"precision, recall, fscore, totals [0, 1]\"\n",
    "pp.pprint(precision_recall_fscore_support(labels_test, neigh_pred))\n"
   ]
  },
  {
   "cell_type": "code",
   "execution_count": 10,
   "metadata": {
    "collapsed": false
   },
   "outputs": [
    {
     "name": "stdout",
     "output_type": "stream",
     "text": [
      "excer_stock\n",
      "poi\n",
      "sal_total\n"
     ]
    }
   ],
   "source": [
    "### Feature selection attempts\n",
    "\n",
    "#Create a numerical dataframe\n",
    "import pandas as pd\n",
    "\n",
    "df = pd.DataFrame.from_dict(data_dict)\n",
    "df = df.transpose()\n",
    "df = df.drop('email_address', 1)\n",
    "num_df = df.replace(\"NaN\", 0)\n",
    "\n",
    "from sklearn.feature_selection import VarianceThreshold\n",
    "import pprint\n",
    "pp = pprint.PrettyPrinter(indent=4)\n",
    "\n",
    "sel_8 = VarianceThreshold(threshold=(.8 * (1 - .8)))\n",
    "reduced_8 = sel_8.fit_transform(num_df)\n",
    "indices_8 = sel_8.get_support()\n",
    "\n",
    "for i in range(0, len(indices_8)):\n",
    "    if indices_8[i] == False:\n",
    "        print list(num_df.columns.values)[i]"
   ]
  },
  {
   "cell_type": "markdown",
   "metadata": {},
   "source": [
    "Oh, this is rich.  After all that work (it was short code, but my basic programming skills made this take a while), the only feature with low variance is poi, which we would remove anyway.  Let's see what other columns might have relatively low variance when we change the threshold."
   ]
  },
  {
   "cell_type": "code",
   "execution_count": 11,
   "metadata": {
    "collapsed": false
   },
   "outputs": [
    {
     "name": "stdout",
     "output_type": "stream",
     "text": [
      "['bon_total', 'excer_stock', 'from_messages', 'from_poi_to_this_person', 'from_this_person_to_poi', 'poi', 'sal_bon', 'sal_total', 'shared_receipt_with_poi', 'stock_pay', 'to_messages']\n"
     ]
    }
   ],
   "source": [
    "def usevariance_t(thresh, df):\n",
    "    sel = VarianceThreshold(threshold=thresh)\n",
    "    reduced = sel.fit_transform(df)\n",
    "    indices = sel.get_support()\n",
    "    features = []\n",
    "    for i in range(0, len(indices)):\n",
    "        if indices[i] == False:\n",
    "            features.append(list(num_df.columns.values)[i])\n",
    "    return features\n",
    "\n",
    "print usevariance_t(10000000, num_df)"
   ]
  },
  {
   "cell_type": "markdown",
   "metadata": {},
   "source": [
    "It makes sense that the other columns with relatively low variance are those dealing with e-mails.  That makes sense because those numbers IN GENERAL will be lower than salaries and thus variance will be lower. More and more it seems to me that the whole variance threshold thing will only really work with normalized features in each column."
   ]
  },
  {
   "cell_type": "code",
   "execution_count": 12,
   "metadata": {
    "collapsed": false
   },
   "outputs": [
    {
     "name": "stdout",
     "output_type": "stream",
     "text": [
      "['loan_advances', 'restricted_stock_deferred', 'stock_pay', 'total_payments']\n"
     ]
    }
   ],
   "source": [
    "from sklearn import preprocessing\n",
    "\n",
    "min_max_scaler = preprocessing.MinMaxScaler()\n",
    "df_scaled = min_max_scaler.fit_transform(num_df)\n",
    "df_normalized = pd.DataFrame(df_scaled)\n",
    "\n",
    "print usevariance_t(.01, df_normalized)\n"
   ]
  },
  {
   "cell_type": "markdown",
   "metadata": {},
   "source": [
    "Ok, so this might be more meaningful.  It looks like there is relatively low variance (< 0.01) within these categories.  Not sure if that means I should eliminate them yet. "
   ]
  },
  {
   "cell_type": "code",
   "execution_count": 13,
   "metadata": {
    "collapsed": false
   },
   "outputs": [],
   "source": [
    "poi_labels = num_df['poi']\n",
    "num_df = num_df.drop('poi', 1)"
   ]
  },
  {
   "cell_type": "code",
   "execution_count": 14,
   "metadata": {
    "collapsed": false
   },
   "outputs": [],
   "source": [
    "def iqr_outliers(df, column):\n",
    "    nan_count = 0\n",
    "    for value in column:\n",
    "        if value == 'NaN':\n",
    "            nan_count += 1\n",
    "    cleaned_column = [x for x in column if str(x) != \"NaN\"]\n",
    "    iqr = np.subtract(*np.percentile(cleaned_column, [75, 25]))\n",
    "    upper =  np.percentile(cleaned_column, 75) + 1.5 * iqr\n",
    "    lower =  np.percentile(cleaned_column, 25) - 1.5 * iqr\n",
    "    outliers = []\n",
    "    lows = 0\n",
    "    highs = 0\n",
    "    non_outliers= 0\n",
    "    for value in cleaned_column:\n",
    "        if value < lower:\n",
    "            lows += 1\n",
    "            outliers.append(value)\n",
    "        elif value > upper:\n",
    "            highs += 1\n",
    "            outliers.append(value)\n",
    "        else:\n",
    "            non_outliers += 1\n",
    "                \n",
    "    \n",
    "    return ({\"Low_outliers\": lows, \n",
    "             \"High_outliers\": highs, \n",
    "             \"NaNs\": nan_count,\n",
    "            \"Non_outliers\": non_outliers\n",
    "            })\n",
    "\n",
    "outlier_count = dict((name, {}) for name in df.columns)\n",
    "\n",
    "for key, value in outlier_count.iteritems():\n",
    "    value = iqr_outliers(df, df[key])\n",
    "    outlier_count[key] = value\n",
    "\n",
    "outlier_df = pd.DataFrame.from_dict(outlier_count)\n",
    "outlier_df = outlier_df.transpose()"
   ]
  },
  {
   "cell_type": "code",
   "execution_count": 15,
   "metadata": {
    "collapsed": false
   },
   "outputs": [
    {
     "name": "stdout",
     "output_type": "stream",
     "text": [
      "                           High_outliers  Low_outliers  NaNs  Non_outliers\n",
      "bon_total                              4             0    63            77\n",
      "bonus                                 10             0    63            71\n",
      "deferral_payments                      6             0   106            32\n",
      "deferred_income                        0             5    96            43\n",
      "director_fees                          0             4   128            12\n",
      "excer_stock                            0             1    44            99\n",
      "exercised_stock_options               11             0    43            90\n",
      "expenses                               3             0    50            91\n",
      "from_messages                         17             0    58            69\n",
      "from_poi_to_this_person               11             0    58            75\n",
      "from_this_person_to_poi               13             0    58            73\n",
      "loan_advances                          0             0   141             3\n",
      "long_term_incentive                    7             0    79            58\n",
      "other                                 11             0    53            80\n",
      "poi                                   18             0     0           126\n",
      "restricted_stock                      13             1    35            95\n",
      "restricted_stock_deferred              1             1   127            15\n",
      "sal_bon                                6             0    63            75\n",
      "sal_total                             10             0    50            84\n",
      "salary                                 6             3    50            85\n",
      "shared_receipt_with_poi                2             0    58            84\n",
      "stock_pay                             15             0    37            92\n",
      "to_messages                            7             0    58            79\n",
      "total_payments                        10             0    21           113\n",
      "total_stock_value                     21             0    19           104\n"
     ]
    }
   ],
   "source": [
    "print outlier_df"
   ]
  },
  {
   "cell_type": "code",
   "execution_count": 16,
   "metadata": {
    "collapsed": false
   },
   "outputs": [],
   "source": [
    "no_poi = df.drop('poi', 1)\n",
    "no_poi = no_poi.replace(\"NaN\", 0)"
   ]
  },
  {
   "cell_type": "code",
   "execution_count": 17,
   "metadata": {
    "collapsed": false
   },
   "outputs": [
    {
     "data": {
      "text/plain": [
       "['bon_total',\n",
       " 'bonus',\n",
       " 'deferral_payments',\n",
       " 'deferred_income',\n",
       " 'director_fees',\n",
       " 'excer_stock',\n",
       " 'exercised_stock_options',\n",
       " 'expenses',\n",
       " 'from_messages',\n",
       " 'from_poi_to_this_person',\n",
       " 'from_this_person_to_poi',\n",
       " 'loan_advances',\n",
       " 'long_term_incentive',\n",
       " 'other',\n",
       " 'restricted_stock',\n",
       " 'restricted_stock_deferred',\n",
       " 'sal_bon',\n",
       " 'sal_total',\n",
       " 'salary',\n",
       " 'shared_receipt_with_poi',\n",
       " 'stock_pay',\n",
       " 'to_messages',\n",
       " 'total_payments',\n",
       " 'total_stock_value']"
      ]
     },
     "execution_count": 17,
     "metadata": {},
     "output_type": "execute_result"
    }
   ],
   "source": [
    "list(no_poi.columns.values)"
   ]
  },
  {
   "cell_type": "code",
   "execution_count": 37,
   "metadata": {
    "collapsed": false
   },
   "outputs": [],
   "source": [
    "from sklearn.ensemble import ExtraTreesClassifier\n",
    "from sklearn.datasets import load_iris\n",
    "from sklearn.feature_selection import SelectFromModel\n",
    "\n",
    "clf = ExtraTreesClassifier()\n",
    "clf = clf.fit(no_poi, poi_labels)\n",
    "imp_dic = {}\n",
    "for feature, importance in zip(list(no_poi.columns.values), clf.feature_importances_):\n",
    "    imp_dic[feature] = importance\n"
   ]
  },
  {
   "cell_type": "code",
   "execution_count": 38,
   "metadata": {
    "collapsed": false
   },
   "outputs": [
    {
     "data": {
      "text/plain": [
       "{'bon_total': 0.041959184371542189,\n",
       " 'bonus': 0.083194102634256487,\n",
       " 'deferral_payments': 0.019912228458090802,\n",
       " 'deferred_income': 0.09355854423354773,\n",
       " 'director_fees': 0.00057566797788414137,\n",
       " 'excer_stock': 0.034295743514794863,\n",
       " 'exercised_stock_options': 0.051637191394683965,\n",
       " 'expenses': 0.04384394779105364,\n",
       " 'from_messages': 0.050745556314803431,\n",
       " 'from_poi_to_this_person': 0.027700376765628899,\n",
       " 'from_this_person_to_poi': 0.040367553272505526,\n",
       " 'loan_advances': 0.0035303006608425349,\n",
       " 'long_term_incentive': 0.051880630391807112,\n",
       " 'other': 0.054656707231666789,\n",
       " 'restricted_stock': 0.038377335506411356,\n",
       " 'restricted_stock_deferred': 0.0050050066514957629,\n",
       " 'sal_bon': 0.037110398228410654,\n",
       " 'sal_total': 0.036245668012236491,\n",
       " 'salary': 0.05939896193731934,\n",
       " 'shared_receipt_with_poi': 0.038290522190466844,\n",
       " 'stock_pay': 0.045476735100144758,\n",
       " 'to_messages': 0.039731909342403317,\n",
       " 'total_payments': 0.046024097164250065,\n",
       " 'total_stock_value': 0.056481630853753295}"
      ]
     },
     "execution_count": 38,
     "metadata": {},
     "output_type": "execute_result"
    }
   ],
   "source": [
    "imp_dic"
   ]
  },
  {
   "cell_type": "code",
   "execution_count": 28,
   "metadata": {
    "collapsed": false
   },
   "outputs": [],
   "source": [
    "non_neg_df = no_poi.where(no_poi > 0, -no_poi)"
   ]
  },
  {
   "cell_type": "code",
   "execution_count": 32,
   "metadata": {
    "collapsed": false
   },
   "outputs": [],
   "source": [
    "from sklearn.feature_selection import SelectKBest\n",
    "from sklearn.feature_selection import chi2\n",
    "\n",
    "k_tops = {}\n",
    "\n",
    "for i in range(1, 25):\n",
    "    ch2 = SelectKBest(chi2, k = i)\n",
    "    ch2.fit(non_neg_df, poi_labels)\n",
    "    klist = ch2.get_support()\n",
    "    for truth, name in zip(klist, list(no_poi.columns.values)):\n",
    "        if truth and name not in k_tops.values():\n",
    "            k_tops[i] = (name)\n",
    "\n",
    "ch2 = SelectKBest(chi2, k = 'all')\n",
    "ch2.fit(non_neg_df, poi_labels)\n",
    "scores = ch2.scores_\n",
    "\n",
    "k_scores = {}\n",
    "for score, name in zip(scores, list(no_poi.columns.values)):\n",
    "    k_scores[name] = score"
   ]
  },
  {
   "cell_type": "code",
   "execution_count": 33,
   "metadata": {
    "collapsed": false
   },
   "outputs": [
    {
     "data": {
      "text/plain": [
       "{'bon_total': 18.308612008608346,\n",
       " 'bonus': 41546794.079927064,\n",
       " 'deferral_payments': 575829.04306187853,\n",
       " 'deferred_income': 20469996.744445831,\n",
       " 'director_fees': 205309.42857142858,\n",
       " 'excer_stock': 0.0098678733905965335,\n",
       " 'exercised_stock_options': 237947643.76971057,\n",
       " 'expenses': 349013.77484335151,\n",
       " 'from_messages': 955.78800082948601,\n",
       " 'from_poi_to_this_person': 738.41454424450308,\n",
       " 'from_this_person_to_poi': 620.96027717347522,\n",
       " 'loan_advances': 549702499.04251242,\n",
       " 'long_term_incentive': 13273623.898099067,\n",
       " 'other': 18029146.221745741,\n",
       " 'restricted_stock': 37551575.915919423,\n",
       " 'restricted_stock_deferred': 2918369.7142857141,\n",
       " 'sal_bon': 1.3332479328604013e-06,\n",
       " 'sal_total': 0.74596712680387356,\n",
       " 'salary': 3463395.416699328,\n",
       " 'shared_receipt_with_poi': 13704.817630381005,\n",
       " 'stock_pay': 89.214421366573902,\n",
       " 'to_messages': 6833.8754052980303,\n",
       " 'total_payments': 291743055.52305174,\n",
       " 'total_stock_value': 276569697.03888297}"
      ]
     },
     "execution_count": 33,
     "metadata": {},
     "output_type": "execute_result"
    }
   ],
   "source": [
    "k_scores"
   ]
  },
  {
   "cell_type": "code",
   "execution_count": 41,
   "metadata": {
    "collapsed": false
   },
   "outputs": [],
   "source": [
    "import operator\n",
    "ord_imp_dic = sorted(imp_dic.items(), key=operator.itemgetter(1), reverse = True)    \n",
    "ord_k_scores = sorted(k_scores.items(), key=operator.itemgetter(1), reverse = True)       "
   ]
  },
  {
   "cell_type": "code",
   "execution_count": 45,
   "metadata": {
    "collapsed": false
   },
   "outputs": [
    {
     "data": {
      "text/plain": [
       "[('deferred_income', 0.09355854423354773),\n",
       " ('bonus', 0.083194102634256487),\n",
       " ('salary', 0.05939896193731934),\n",
       " ('total_stock_value', 0.056481630853753295),\n",
       " ('other', 0.054656707231666789),\n",
       " ('long_term_incentive', 0.051880630391807112),\n",
       " ('exercised_stock_options', 0.051637191394683965),\n",
       " ('from_messages', 0.050745556314803431),\n",
       " ('total_payments', 0.046024097164250065),\n",
       " ('stock_pay', 0.045476735100144758),\n",
       " ('expenses', 0.04384394779105364),\n",
       " ('bon_total', 0.041959184371542189),\n",
       " ('from_this_person_to_poi', 0.040367553272505526),\n",
       " ('to_messages', 0.039731909342403317),\n",
       " ('restricted_stock', 0.038377335506411356),\n",
       " ('shared_receipt_with_poi', 0.038290522190466844),\n",
       " ('sal_bon', 0.037110398228410654),\n",
       " ('sal_total', 0.036245668012236491),\n",
       " ('excer_stock', 0.034295743514794863),\n",
       " ('from_poi_to_this_person', 0.027700376765628899),\n",
       " ('deferral_payments', 0.019912228458090802),\n",
       " ('restricted_stock_deferred', 0.0050050066514957629),\n",
       " ('loan_advances', 0.0035303006608425349),\n",
       " ('director_fees', 0.00057566797788414137)]"
      ]
     },
     "execution_count": 45,
     "metadata": {},
     "output_type": "execute_result"
    }
   ],
   "source": [
    "ord_imp_dic"
   ]
  },
  {
   "cell_type": "code",
   "execution_count": 43,
   "metadata": {
    "collapsed": false
   },
   "outputs": [],
   "source": [
    "final_rank = {}\n",
    "for key in k_scores:\n",
    "    final_rank[key] = imp_dic[key] * k_scores[key]"
   ]
  },
  {
   "cell_type": "code",
   "execution_count": 44,
   "metadata": {
    "collapsed": false
   },
   "outputs": [
    {
     "data": {
      "text/plain": [
       "[('total_stock_value', 15621107.533484574),\n",
       " ('total_payments', 13427210.734388135),\n",
       " ('exercised_stock_options', 12286948.023250625),\n",
       " ('bonus', 3456448.2508097719),\n",
       " ('loan_advances', 1940615.0956365746),\n",
       " ('deferred_income', 1915143.0958758132),\n",
       " ('restricted_stock', 1441129.427719716),\n",
       " ('other', 985413.76667886833),\n",
       " ('long_term_incentive', 688643.97541713563),\n",
       " ('salary', 205722.09253040963),\n",
       " ('expenses', 15302.141722590453),\n",
       " ('restricted_stock_deferred', 14606.459831523789),\n",
       " ('deferral_payments', 11466.039458251931),\n",
       " ('shared_receipt_with_poi', 524.76462359240509),\n",
       " ('to_messages', 271.52291806058105),\n",
       " ('director_fees', 118.19006358626285),\n",
       " ('from_messages', 48.501993821106069),\n",
       " ('from_this_person_to_poi', 25.066647068910058),\n",
       " ('from_poi_to_this_person', 20.454361084792886),\n",
       " ('stock_pay', 4.057180607600376),\n",
       " ('bon_total', 0.76821442685622898),\n",
       " ('sal_total', 0.027038076826175123),\n",
       " ('excer_stock', 0.00033842605484036789),\n",
       " ('sal_bon', 4.94773617256548e-08)]"
      ]
     },
     "execution_count": 44,
     "metadata": {},
     "output_type": "execute_result"
    }
   ],
   "source": [
    "ord_final_rank = sorted(final_rank.items(), key=operator.itemgetter(1), reverse = True)  \n",
    "ord_final_rank"
   ]
  },
  {
   "cell_type": "code",
   "execution_count": null,
   "metadata": {
    "collapsed": true
   },
   "outputs": [],
   "source": []
  }
 ],
 "metadata": {
  "anaconda-cloud": {},
  "kernelspec": {
   "display_name": "Python [default]",
   "language": "python",
   "name": "python2"
  },
  "language_info": {
   "codemirror_mode": {
    "name": "ipython",
    "version": 2
   },
   "file_extension": ".py",
   "mimetype": "text/x-python",
   "name": "python",
   "nbconvert_exporter": "python",
   "pygments_lexer": "ipython2",
   "version": "2.7.12"
  }
 },
 "nbformat": 4,
 "nbformat_minor": 1
}
